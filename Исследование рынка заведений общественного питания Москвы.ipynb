{
 "cells": [
  {
   "cell_type": "markdown",
   "metadata": {
    "toc": true
   },
   "source": [
    "<h1>Содержание<span class=\"tocSkip\"></span></h1>\n",
    "<div class=\"toc\"><ul class=\"toc-item\"><li><span><a href=\"#Загрузка-данных\" data-toc-modified-id=\"Загрузка-данных-1\"><span class=\"toc-item-num\">1&nbsp;&nbsp;</span>Загрузка данных</a></span></li><li><span><a href=\"#Исследовательский-анализ-данных\" data-toc-modified-id=\"Исследовательский-анализ-данных-2\"><span class=\"toc-item-num\">2&nbsp;&nbsp;</span>Исследовательский анализ данных</a></span></li><li><span><a href=\"#Общий-вывод\" data-toc-modified-id=\"Общий-вывод-3\"><span class=\"toc-item-num\">3&nbsp;&nbsp;</span>Общий вывод</a></span></li></ul></div>"
   ]
  },
  {
   "cell_type": "markdown",
   "metadata": {},
   "source": [
    "# Исследование рынка заведений общественного питания Москвы\n",
    "\n",
    "Инвестор решил открыть небольшое кафе в Москве. Оно оригинальное — гостей должны обслуживать роботы. Проект многообещающий, но дорогой. Инвесторов интересует текущее положение дел на рынке — сможет ли кафе снискать популярность на долгое время, когда все зеваки насмотрятся на роботов-официантов?\n",
    "Иточником информации для анализа являются открытые данные о заведениях общественного питания в Москве.\n",
    "Необходимо сделать общий вывод и дать рекомендации о виде заведения, количестве посадочных мест, а также районе расположения. \n",
    "Оценить возможность развития сети.\n",
    "\n",
    "## Загрузка данных\n",
    "\n",
    "Импортируем библиотеки:"
   ]
  },
  {
   "cell_type": "code",
   "execution_count": 59,
   "metadata": {},
   "outputs": [],
   "source": [
    "import pandas as pd\n",
    "import matplotlib.pyplot as plt\n",
    "import seaborn as sns\n",
    "from io import BytesIO\n",
    "import requests\n",
    "import warnings\n",
    "warnings.simplefilter(action='ignore', category=FutureWarning)"
   ]
  },
  {
   "cell_type": "markdown",
   "metadata": {},
   "source": [
    "Прочитаем файл rest_data.csv из папки /datasets и сохраним его в переменной df. Выведем на экран первые 5 строк таблицы:"
   ]
  },
  {
   "cell_type": "code",
   "execution_count": 60,
   "metadata": {},
   "outputs": [
    {
     "data": {
      "text/html": [
       "<div>\n",
       "<style scoped>\n",
       "    .dataframe tbody tr th:only-of-type {\n",
       "        vertical-align: middle;\n",
       "    }\n",
       "\n",
       "    .dataframe tbody tr th {\n",
       "        vertical-align: top;\n",
       "    }\n",
       "\n",
       "    .dataframe thead th {\n",
       "        text-align: right;\n",
       "    }\n",
       "</style>\n",
       "<table border=\"1\" class=\"dataframe\">\n",
       "  <thead>\n",
       "    <tr style=\"text-align: right;\">\n",
       "      <th></th>\n",
       "      <th>id</th>\n",
       "      <th>object_name</th>\n",
       "      <th>chain</th>\n",
       "      <th>object_type</th>\n",
       "      <th>address</th>\n",
       "      <th>number</th>\n",
       "    </tr>\n",
       "  </thead>\n",
       "  <tbody>\n",
       "    <tr>\n",
       "      <th>0</th>\n",
       "      <td>151635</td>\n",
       "      <td>СМЕТАНА</td>\n",
       "      <td>нет</td>\n",
       "      <td>кафе</td>\n",
       "      <td>город Москва, улица Егора Абакумова, дом 9</td>\n",
       "      <td>48</td>\n",
       "    </tr>\n",
       "    <tr>\n",
       "      <th>1</th>\n",
       "      <td>77874</td>\n",
       "      <td>Родник</td>\n",
       "      <td>нет</td>\n",
       "      <td>кафе</td>\n",
       "      <td>город Москва, улица Талалихина, дом 2/1, корпус 1</td>\n",
       "      <td>35</td>\n",
       "    </tr>\n",
       "    <tr>\n",
       "      <th>2</th>\n",
       "      <td>24309</td>\n",
       "      <td>Кафе «Академия»</td>\n",
       "      <td>нет</td>\n",
       "      <td>кафе</td>\n",
       "      <td>город Москва, Абельмановская улица, дом 6</td>\n",
       "      <td>95</td>\n",
       "    </tr>\n",
       "    <tr>\n",
       "      <th>3</th>\n",
       "      <td>21894</td>\n",
       "      <td>ПИЦЦЕТОРИЯ</td>\n",
       "      <td>да</td>\n",
       "      <td>кафе</td>\n",
       "      <td>город Москва, Абрамцевская улица, дом 1</td>\n",
       "      <td>40</td>\n",
       "    </tr>\n",
       "    <tr>\n",
       "      <th>4</th>\n",
       "      <td>119365</td>\n",
       "      <td>Кафе «Вишневая метель»</td>\n",
       "      <td>нет</td>\n",
       "      <td>кафе</td>\n",
       "      <td>город Москва, Абрамцевская улица, дом 9, корпус 1</td>\n",
       "      <td>50</td>\n",
       "    </tr>\n",
       "  </tbody>\n",
       "</table>\n",
       "</div>"
      ],
      "text/plain": [
       "       id             object_name chain object_type  \\\n",
       "0  151635                 СМЕТАНА   нет        кафе   \n",
       "1   77874                  Родник   нет        кафе   \n",
       "2   24309         Кафе «Академия»   нет        кафе   \n",
       "3   21894              ПИЦЦЕТОРИЯ    да        кафе   \n",
       "4  119365  Кафе «Вишневая метель»   нет        кафе   \n",
       "\n",
       "                                             address  number  \n",
       "0         город Москва, улица Егора Абакумова, дом 9      48  \n",
       "1  город Москва, улица Талалихина, дом 2/1, корпус 1      35  \n",
       "2          город Москва, Абельмановская улица, дом 6      95  \n",
       "3            город Москва, Абрамцевская улица, дом 1      40  \n",
       "4  город Москва, Абрамцевская улица, дом 9, корпус 1      50  "
      ]
     },
     "metadata": {},
     "output_type": "display_data"
    }
   ],
   "source": [
    "df = pd.read_csv('/datasets/rest_data.csv')\n",
    "display(df.head())"
   ]
  },
  {
   "cell_type": "markdown",
   "metadata": {},
   "source": [
    "Изучим общую информацию о таблице:"
   ]
  },
  {
   "cell_type": "code",
   "execution_count": 61,
   "metadata": {},
   "outputs": [
    {
     "name": "stdout",
     "output_type": "stream",
     "text": [
      "<class 'pandas.core.frame.DataFrame'>\n",
      "RangeIndex: 15366 entries, 0 to 15365\n",
      "Data columns (total 6 columns):\n",
      " #   Column       Non-Null Count  Dtype \n",
      "---  ------       --------------  ----- \n",
      " 0   id           15366 non-null  int64 \n",
      " 1   object_name  15366 non-null  object\n",
      " 2   chain        15366 non-null  object\n",
      " 3   object_type  15366 non-null  object\n",
      " 4   address      15366 non-null  object\n",
      " 5   number       15366 non-null  int64 \n",
      "dtypes: int64(2), object(4)\n",
      "memory usage: 720.4+ KB\n"
     ]
    }
   ],
   "source": [
    "df.info()"
   ]
  },
  {
   "cell_type": "markdown",
   "metadata": {},
   "source": [
    "В анализируемой таблице 6 столбцов, согласно документации к данным:\n",
    "- `id` — идентификатор объекта;\n",
    "- `object_name` — название объекта общественного питания;\n",
    "- `chain` — сетевой ресторан;\n",
    "- `object_type` — тип объекта общественного питания;\n",
    "- `address` — адрес;\n",
    "- `number` — количество посадочных мест.\n",
    "\n",
    "Количество значений в столбцах совпадает, следовательно, в данных нет пропущенных значений.\n",
    "\n",
    "Посчитаем количество явных дубликатов в таблице:"
   ]
  },
  {
   "cell_type": "code",
   "execution_count": 62,
   "metadata": {},
   "outputs": [
    {
     "name": "stdout",
     "output_type": "stream",
     "text": [
      "Количество дубликатов: 0\n"
     ]
    }
   ],
   "source": [
    "print('Количество дубликатов:', df.duplicated().sum())"
   ]
  },
  {
   "cell_type": "markdown",
   "metadata": {},
   "source": [
    "Явные дубликаты в таблице отсутствуют.\n",
    "\n",
    "Более подробно изучим данные в столбцах:"
   ]
  },
  {
   "cell_type": "code",
   "execution_count": 63,
   "metadata": {},
   "outputs": [
    {
     "data": {
      "text/html": [
       "<div>\n",
       "<style scoped>\n",
       "    .dataframe tbody tr th:only-of-type {\n",
       "        vertical-align: middle;\n",
       "    }\n",
       "\n",
       "    .dataframe tbody tr th {\n",
       "        vertical-align: top;\n",
       "    }\n",
       "\n",
       "    .dataframe thead th {\n",
       "        text-align: right;\n",
       "    }\n",
       "</style>\n",
       "<table border=\"1\" class=\"dataframe\">\n",
       "  <thead>\n",
       "    <tr style=\"text-align: right;\">\n",
       "      <th></th>\n",
       "      <th>id</th>\n",
       "    </tr>\n",
       "  </thead>\n",
       "  <tbody>\n",
       "    <tr>\n",
       "      <th>151635</th>\n",
       "      <td>1</td>\n",
       "    </tr>\n",
       "    <tr>\n",
       "      <th>165512</th>\n",
       "      <td>1</td>\n",
       "    </tr>\n",
       "    <tr>\n",
       "      <th>183131</th>\n",
       "      <td>1</td>\n",
       "    </tr>\n",
       "    <tr>\n",
       "      <th>186224</th>\n",
       "      <td>1</td>\n",
       "    </tr>\n",
       "    <tr>\n",
       "      <th>180669</th>\n",
       "      <td>1</td>\n",
       "    </tr>\n",
       "  </tbody>\n",
       "</table>\n",
       "</div>"
      ],
      "text/plain": [
       "        id\n",
       "151635   1\n",
       "165512   1\n",
       "183131   1\n",
       "186224   1\n",
       "180669   1"
      ]
     },
     "metadata": {},
     "output_type": "display_data"
    },
    {
     "data": {
      "text/html": [
       "<div>\n",
       "<style scoped>\n",
       "    .dataframe tbody tr th:only-of-type {\n",
       "        vertical-align: middle;\n",
       "    }\n",
       "\n",
       "    .dataframe tbody tr th {\n",
       "        vertical-align: top;\n",
       "    }\n",
       "\n",
       "    .dataframe thead th {\n",
       "        text-align: right;\n",
       "    }\n",
       "</style>\n",
       "<table border=\"1\" class=\"dataframe\">\n",
       "  <thead>\n",
       "    <tr style=\"text-align: right;\">\n",
       "      <th></th>\n",
       "      <th>object_name</th>\n",
       "    </tr>\n",
       "  </thead>\n",
       "  <tbody>\n",
       "    <tr>\n",
       "      <th>Столовая</th>\n",
       "      <td>267</td>\n",
       "    </tr>\n",
       "    <tr>\n",
       "      <th>Кафе</th>\n",
       "      <td>236</td>\n",
       "    </tr>\n",
       "    <tr>\n",
       "      <th>Шаурма</th>\n",
       "      <td>234</td>\n",
       "    </tr>\n",
       "    <tr>\n",
       "      <th>KFC</th>\n",
       "      <td>155</td>\n",
       "    </tr>\n",
       "    <tr>\n",
       "      <th>Шоколадница</th>\n",
       "      <td>142</td>\n",
       "    </tr>\n",
       "  </tbody>\n",
       "</table>\n",
       "</div>"
      ],
      "text/plain": [
       "             object_name\n",
       "Столовая             267\n",
       "Кафе                 236\n",
       "Шаурма               234\n",
       "KFC                  155\n",
       "Шоколадница          142"
      ]
     },
     "metadata": {},
     "output_type": "display_data"
    },
    {
     "data": {
      "text/html": [
       "<div>\n",
       "<style scoped>\n",
       "    .dataframe tbody tr th:only-of-type {\n",
       "        vertical-align: middle;\n",
       "    }\n",
       "\n",
       "    .dataframe tbody tr th {\n",
       "        vertical-align: top;\n",
       "    }\n",
       "\n",
       "    .dataframe thead th {\n",
       "        text-align: right;\n",
       "    }\n",
       "</style>\n",
       "<table border=\"1\" class=\"dataframe\">\n",
       "  <thead>\n",
       "    <tr style=\"text-align: right;\">\n",
       "      <th></th>\n",
       "      <th>chain</th>\n",
       "    </tr>\n",
       "  </thead>\n",
       "  <tbody>\n",
       "    <tr>\n",
       "      <th>нет</th>\n",
       "      <td>12398</td>\n",
       "    </tr>\n",
       "    <tr>\n",
       "      <th>да</th>\n",
       "      <td>2968</td>\n",
       "    </tr>\n",
       "  </tbody>\n",
       "</table>\n",
       "</div>"
      ],
      "text/plain": [
       "     chain\n",
       "нет  12398\n",
       "да    2968"
      ]
     },
     "metadata": {},
     "output_type": "display_data"
    },
    {
     "data": {
      "text/html": [
       "<div>\n",
       "<style scoped>\n",
       "    .dataframe tbody tr th:only-of-type {\n",
       "        vertical-align: middle;\n",
       "    }\n",
       "\n",
       "    .dataframe tbody tr th {\n",
       "        vertical-align: top;\n",
       "    }\n",
       "\n",
       "    .dataframe thead th {\n",
       "        text-align: right;\n",
       "    }\n",
       "</style>\n",
       "<table border=\"1\" class=\"dataframe\">\n",
       "  <thead>\n",
       "    <tr style=\"text-align: right;\">\n",
       "      <th></th>\n",
       "      <th>object_type</th>\n",
       "    </tr>\n",
       "  </thead>\n",
       "  <tbody>\n",
       "    <tr>\n",
       "      <th>кафе</th>\n",
       "      <td>6099</td>\n",
       "    </tr>\n",
       "    <tr>\n",
       "      <th>столовая</th>\n",
       "      <td>2587</td>\n",
       "    </tr>\n",
       "    <tr>\n",
       "      <th>ресторан</th>\n",
       "      <td>2285</td>\n",
       "    </tr>\n",
       "    <tr>\n",
       "      <th>предприятие быстрого обслуживания</th>\n",
       "      <td>1923</td>\n",
       "    </tr>\n",
       "    <tr>\n",
       "      <th>бар</th>\n",
       "      <td>856</td>\n",
       "    </tr>\n",
       "  </tbody>\n",
       "</table>\n",
       "</div>"
      ],
      "text/plain": [
       "                                   object_type\n",
       "кафе                                      6099\n",
       "столовая                                  2587\n",
       "ресторан                                  2285\n",
       "предприятие быстрого обслуживания         1923\n",
       "бар                                        856"
      ]
     },
     "metadata": {},
     "output_type": "display_data"
    },
    {
     "data": {
      "text/html": [
       "<div>\n",
       "<style scoped>\n",
       "    .dataframe tbody tr th:only-of-type {\n",
       "        vertical-align: middle;\n",
       "    }\n",
       "\n",
       "    .dataframe tbody tr th {\n",
       "        vertical-align: top;\n",
       "    }\n",
       "\n",
       "    .dataframe thead th {\n",
       "        text-align: right;\n",
       "    }\n",
       "</style>\n",
       "<table border=\"1\" class=\"dataframe\">\n",
       "  <thead>\n",
       "    <tr style=\"text-align: right;\">\n",
       "      <th></th>\n",
       "      <th>address</th>\n",
       "    </tr>\n",
       "  </thead>\n",
       "  <tbody>\n",
       "    <tr>\n",
       "      <th>город Москва, Ходынский бульвар, дом 4</th>\n",
       "      <td>95</td>\n",
       "    </tr>\n",
       "    <tr>\n",
       "      <th>город Москва, Пресненская набережная, дом 2</th>\n",
       "      <td>63</td>\n",
       "    </tr>\n",
       "    <tr>\n",
       "      <th>город Москва, проспект Мира, дом 211, корпус 2</th>\n",
       "      <td>60</td>\n",
       "    </tr>\n",
       "    <tr>\n",
       "      <th>город Москва, Кировоградская улица, дом 13А</th>\n",
       "      <td>53</td>\n",
       "    </tr>\n",
       "    <tr>\n",
       "      <th>город Москва, площадь Киевского Вокзала, дом 2</th>\n",
       "      <td>48</td>\n",
       "    </tr>\n",
       "  </tbody>\n",
       "</table>\n",
       "</div>"
      ],
      "text/plain": [
       "                                                address\n",
       "город Москва, Ходынский бульвар, дом 4               95\n",
       "город Москва, Пресненская набережная, дом 2          63\n",
       "город Москва, проспект Мира, дом 211, корпус 2       60\n",
       "город Москва, Кировоградская улица, дом 13А          53\n",
       "город Москва, площадь Киевского Вокзала, дом 2       48"
      ]
     },
     "metadata": {},
     "output_type": "display_data"
    },
    {
     "data": {
      "text/html": [
       "<div>\n",
       "<style scoped>\n",
       "    .dataframe tbody tr th:only-of-type {\n",
       "        vertical-align: middle;\n",
       "    }\n",
       "\n",
       "    .dataframe tbody tr th {\n",
       "        vertical-align: top;\n",
       "    }\n",
       "\n",
       "    .dataframe thead th {\n",
       "        text-align: right;\n",
       "    }\n",
       "</style>\n",
       "<table border=\"1\" class=\"dataframe\">\n",
       "  <thead>\n",
       "    <tr style=\"text-align: right;\">\n",
       "      <th></th>\n",
       "      <th>number</th>\n",
       "    </tr>\n",
       "  </thead>\n",
       "  <tbody>\n",
       "    <tr>\n",
       "      <th>0</th>\n",
       "      <td>1621</td>\n",
       "    </tr>\n",
       "    <tr>\n",
       "      <th>40</th>\n",
       "      <td>835</td>\n",
       "    </tr>\n",
       "    <tr>\n",
       "      <th>20</th>\n",
       "      <td>727</td>\n",
       "    </tr>\n",
       "    <tr>\n",
       "      <th>30</th>\n",
       "      <td>685</td>\n",
       "    </tr>\n",
       "    <tr>\n",
       "      <th>10</th>\n",
       "      <td>644</td>\n",
       "    </tr>\n",
       "  </tbody>\n",
       "</table>\n",
       "</div>"
      ],
      "text/plain": [
       "    number\n",
       "0     1621\n",
       "40     835\n",
       "20     727\n",
       "30     685\n",
       "10     644"
      ]
     },
     "metadata": {},
     "output_type": "display_data"
    }
   ],
   "source": [
    "for column in list(df.columns):  #  используем цикл по столбцам\n",
    "    display(pd.DataFrame(df[column].value_counts().head(5)))"
   ]
  },
  {
   "cell_type": "markdown",
   "metadata": {},
   "source": [
    "**Вывод**: значения в столбцах соответствуют их описанию, пропуски и дубликаты отсутствуют. "
   ]
  },
  {
   "cell_type": "markdown",
   "metadata": {},
   "source": [
    "## Исследовательский анализ данных\n",
    "Проанализируем соотношение видов объектов общественного питания по количеству:"
   ]
  },
  {
   "cell_type": "code",
   "execution_count": 64,
   "metadata": {},
   "outputs": [
    {
     "data": {
      "image/png": "[encoded data removed]",
      "text/plain": [
       "<Figure size 432x288 with 1 Axes>"
      ]
     },
     "metadata": {
      "needs_background": "light"
     },
     "output_type": "display_data"
    }
   ],
   "source": [
    "sns.countplot(x='object_type', data=df, order = df['object_type'].value_counts().index, palette='Blues') \n",
    "plt.xlabel('Вид заведения')\n",
    "plt.ylabel('Количество')\n",
    "plt.xticks(x='object_type', rotation='vertical')\n",
    "plt.title('Количество заведений общественного питания', fontsize=14, pad=20)\n",
    "sns.despine()"
   ]
  },
  {
   "cell_type": "markdown",
   "metadata": {},
   "source": [
    "В анализируемой выборке больше всего заведений, относящихся к типу кафе, а меньше всего отделов кулинарии в магазинах.\n",
    "\n",
    "Проанализируем соотношение сетевых и несетевых заведений по количеству:"
   ]
  },
  {
   "cell_type": "code",
   "execution_count": 65,
   "metadata": {
    "scrolled": true
   },
   "outputs": [
    {
     "name": "stdout",
     "output_type": "stream",
     "text": [
      "Доля сетевых заведений составляет: 19.3%\n"
     ]
    },
    {
     "data": {
      "image/png": "[encoded data removed]",
      "text/plain": [
       "<Figure size 432x288 with 1 Axes>"
      ]
     },
     "metadata": {
      "needs_background": "light"
     },
     "output_type": "display_data"
    }
   ],
   "source": [
    "sns.countplot(x='chain', data=df, order = df['chain'].value_counts().sort_values(ascending=True).index) \n",
    "\n",
    "plt.xlabel('Сетевое заведение')\n",
    "plt.ylabel('Количество')\n",
    "plt.title('Соотношение сетевых и несетевых заведений по количеству', fontsize=14, pad=20)\n",
    "sns.despine() \n",
    "\n",
    "df['chain_bool'] = df['chain'].map(dict(да=1, нет=0))\n",
    "df['chain_bool'] = df['chain_bool'].astype(bool)\n",
    "print('Доля сетевых заведений составляет: {:.1%}'.format(df['chain_bool'].mean()))"
   ]
  },
  {
   "cell_type": "markdown",
   "metadata": {},
   "source": [
    "Сетевых заведений меньше, их доля составляет лишь 19.3%.\n",
    "\n",
    "Рассмотрим детальнее долю сетевых заведений в разбивке по видам:"
   ]
  },
  {
   "cell_type": "code",
   "execution_count": 66,
   "metadata": {},
   "outputs": [
    {
     "data": {
      "image/png": "[encoded data removed]",
      "text/plain": [
       "<Figure size 432x288 with 1 Axes>"
      ]
     },
     "metadata": {
      "needs_background": "light"
     },
     "output_type": "display_data"
    }
   ],
   "source": [
    "report = pd.DataFrame(df.pivot_table(index='object_type', values='chain_bool', aggfunc='mean').sort_values(\n",
    "    by='chain_bool', ascending=False)\n",
    ".reset_index().rename(columns={'object_type':'Вид заведения','chain_bool':'Доля сетевых заведений, %'}))\n",
    "\n",
    "sns.barplot(x='Вид заведения', y='Доля сетевых заведений, %', data=report, palette='Blues') \n",
    "plt.xticks(x='object_type', rotation='vertical')\n",
    "plt.title('Доля сетевых заведений общественного питания по видам заведений', fontsize=14, pad=20)\n",
    "sns.despine()"
   ]
  },
  {
   "cell_type": "markdown",
   "metadata": {},
   "source": [
    "Наибольшая доля сетевых заведений приходится на предприятия быстрого обслуживания (более 40%), а наименьшая на столовые (около 1%).\n",
    "\n",
    "Проанализируем распределение числа посадочных мест в сетевых заведениях: "
   ]
  },
  {
   "cell_type": "code",
   "execution_count": 67,
   "metadata": {},
   "outputs": [
    {
     "data": {
      "image/png": "[encoded data removed]",
      "text/plain": [
       "<Figure size 432x288 with 1 Axes>"
      ]
     },
     "metadata": {
      "needs_background": "light"
     },
     "output_type": "display_data"
    }
   ],
   "source": [
    "report = df[df['chain'] == 'да']\n",
    "ax = sns.distplot(report['number'])\n",
    "ax.set_xlim([0, 300])\n",
    "plt.xlabel('Количество посадочных мест')\n",
    "plt.title('Гистограмма распределения количества посадочных мест в сетевых заведениях', fontsize=14, pad=20)\n",
    "sns.despine()"
   ]
  },
  {
   "cell_type": "markdown",
   "metadata": {},
   "source": [
    "Из гистограммы видно, что для сетевых заведений характерно малое число посадочных мест.\n",
    "\n",
    "Посчитаем среднее количество посадочных мест для каждого вида заведений:"
   ]
  },
  {
   "cell_type": "code",
   "execution_count": 68,
   "metadata": {},
   "outputs": [
    {
     "data": {
      "image/png": "[encoded data removed]",
      "text/plain": [
       "<Figure size 432x288 with 1 Axes>"
      ]
     },
     "metadata": {
      "needs_background": "light"
     },
     "output_type": "display_data"
    }
   ],
   "source": [
    "order = df.groupby(['object_type'])['number'].mean().sort_values(ascending=False).index\n",
    "sns.barplot(x='object_type', y='number', data=df, order=order, palette='Blues', ci=None) \n",
    "\n",
    "plt.xlabel('Вид заведения')\n",
    "plt.ylabel('Среднее количество посадочных мест')\n",
    "plt.xticks(x='object_type', rotation='vertical')\n",
    "plt.title('Cреднее количество посадочных мест по видам заведений', fontsize=14, pad=20)\n",
    "sns.despine() "
   ]
  },
  {
   "cell_type": "markdown",
   "metadata": {},
   "source": [
    "В среднем самое большое количество посадочных мест приходится на столовые.\n",
    "\n",
    "Выделим в отдельный столбец информацию об улице из столбца `address`, а также обогатим таблицу внешними данными по районам и округам:"
   ]
  },
  {
   "cell_type": "code",
   "execution_count": 69,
   "metadata": {},
   "outputs": [],
   "source": [
    "pattern = '\\,(([а-яА-Я0-9\\-ёй\\s\"]+)?(улица|переулок|шоссе)([а-яА-Я0-9\\-ёй\\s\"]+)?)\\,'\n",
    "df['street'] = df['address'].str.extract(pat = pattern)[0]\n",
    "\n",
    "spreadsheet_id = '1aBr0H62DX7C3769DwIn-uNqs9nHSBUtGEcR9PXGmffQ'\n",
    "file_name = 'https://docs.google.com/spreadsheets/d/{}/export?format=csv'.format(spreadsheet_id)\n",
    "r = requests.get(file_name)\n",
    "moscow_streets = pd.read_csv(BytesIO(r.content))\n",
    "moscow_streets.columns = ['street', 'areaid', 'okrug', 'area']\n",
    "\n",
    "df['street'] = df['street'].str.strip()\n",
    "moscow_streets['street'] = moscow_streets['street'].str.strip()\n",
    "df = df.merge(moscow_streets, on='street', how='left')"
   ]
  },
  {
   "cell_type": "markdown",
   "metadata": {},
   "source": [
    "Построим график для ТОП-10 улиц по количеству объектов общественного питания:"
   ]
  },
  {
   "cell_type": "code",
   "execution_count": 70,
   "metadata": {},
   "outputs": [
    {
     "data": {
      "image/png": "[encoded data removed]",
      "text/plain": [
       "<Figure size 432x288 with 1 Axes>"
      ]
     },
     "metadata": {
      "needs_background": "light"
     },
     "output_type": "display_data"
    }
   ],
   "source": [
    "report = pd.DataFrame(df.pivot_table(index='street', values='id', aggfunc='count').sort_values(by='id', ascending=False)\n",
    ".reset_index().rename(columns={'street':'Улица','id':'Количество заведений'})).head(10)\n",
    "\n",
    "sns.barplot(x='Улица', y='Количество заведений', data=report, estimator=sum, palette='Blues') \n",
    "plt.xticks(x='Улица', rotation='vertical')\n",
    "plt.title('ТОП-10 улиц по количеству заведений общественного питания', fontsize=14, pad=20)\n",
    "sns.despine()"
   ]
  },
  {
   "cell_type": "code",
   "execution_count": 71,
   "metadata": {},
   "outputs": [
    {
     "data": {
      "text/html": [
       "<div>\n",
       "<style scoped>\n",
       "    .dataframe tbody tr th:only-of-type {\n",
       "        vertical-align: middle;\n",
       "    }\n",
       "\n",
       "    .dataframe tbody tr th {\n",
       "        vertical-align: top;\n",
       "    }\n",
       "\n",
       "    .dataframe thead th {\n",
       "        text-align: right;\n",
       "    }\n",
       "</style>\n",
       "<table border=\"1\" class=\"dataframe\">\n",
       "  <thead>\n",
       "    <tr style=\"text-align: right;\">\n",
       "      <th></th>\n",
       "      <th>Округ</th>\n",
       "      <th>Улица</th>\n",
       "      <th>Количество</th>\n",
       "    </tr>\n",
       "  </thead>\n",
       "  <tbody>\n",
       "    <tr>\n",
       "      <th>0</th>\n",
       "      <td>ЮЗАО</td>\n",
       "      <td>Профсоюзная улица</td>\n",
       "      <td>1092</td>\n",
       "    </tr>\n",
       "    <tr>\n",
       "      <th>1</th>\n",
       "      <td>ЮАО</td>\n",
       "      <td>Варшавское шоссе</td>\n",
       "      <td>984</td>\n",
       "    </tr>\n",
       "    <tr>\n",
       "      <th>2</th>\n",
       "      <td>САО</td>\n",
       "      <td>Дмитровское шоссе</td>\n",
       "      <td>500</td>\n",
       "    </tr>\n",
       "    <tr>\n",
       "      <th>3</th>\n",
       "      <td>САО</td>\n",
       "      <td>Ленинградское шоссе</td>\n",
       "      <td>500</td>\n",
       "    </tr>\n",
       "    <tr>\n",
       "      <th>4</th>\n",
       "      <td>ЮАО</td>\n",
       "      <td>Каширское шоссе</td>\n",
       "      <td>448</td>\n",
       "    </tr>\n",
       "    <tr>\n",
       "      <th>5</th>\n",
       "      <td>СВАО</td>\n",
       "      <td>Алтуфьевское шоссе</td>\n",
       "      <td>332</td>\n",
       "    </tr>\n",
       "    <tr>\n",
       "      <th>6</th>\n",
       "      <td>ЮАО</td>\n",
       "      <td>Кировоградская улица</td>\n",
       "      <td>330</td>\n",
       "    </tr>\n",
       "    <tr>\n",
       "      <th>7</th>\n",
       "      <td>ЮЗАО</td>\n",
       "      <td>Варшавское шоссе</td>\n",
       "      <td>328</td>\n",
       "    </tr>\n",
       "    <tr>\n",
       "      <th>8</th>\n",
       "      <td>ЮЗАО</td>\n",
       "      <td>улица Вавилова</td>\n",
       "      <td>234</td>\n",
       "    </tr>\n",
       "    <tr>\n",
       "      <th>9</th>\n",
       "      <td>СВАО</td>\n",
       "      <td>Дмитровское шоссе</td>\n",
       "      <td>200</td>\n",
       "    </tr>\n",
       "    <tr>\n",
       "      <th>10</th>\n",
       "      <td>ЦАО</td>\n",
       "      <td>улица Сущёвский Вал</td>\n",
       "      <td>172</td>\n",
       "    </tr>\n",
       "    <tr>\n",
       "      <th>11</th>\n",
       "      <td>Зеленоград</td>\n",
       "      <td>Лесная улица</td>\n",
       "      <td>128</td>\n",
       "    </tr>\n",
       "    <tr>\n",
       "      <th>12</th>\n",
       "      <td>Зеленоград</td>\n",
       "      <td>Ленинградское шоссе</td>\n",
       "      <td>100</td>\n",
       "    </tr>\n",
       "    <tr>\n",
       "      <th>13</th>\n",
       "      <td>СВАО</td>\n",
       "      <td>улица Сущёвский Вал</td>\n",
       "      <td>86</td>\n",
       "    </tr>\n",
       "    <tr>\n",
       "      <th>14</th>\n",
       "      <td>ЮАО</td>\n",
       "      <td>улица Вавилова</td>\n",
       "      <td>78</td>\n",
       "    </tr>\n",
       "    <tr>\n",
       "      <th>15</th>\n",
       "      <td>ЗАО</td>\n",
       "      <td>Лесная улица</td>\n",
       "      <td>64</td>\n",
       "    </tr>\n",
       "    <tr>\n",
       "      <th>16</th>\n",
       "      <td>ЦАО</td>\n",
       "      <td>Лесная улица</td>\n",
       "      <td>64</td>\n",
       "    </tr>\n",
       "  </tbody>\n",
       "</table>\n",
       "</div>"
      ],
      "text/plain": [
       "         Округ                 Улица  Количество\n",
       "0         ЮЗАО     Профсоюзная улица        1092\n",
       "1          ЮАО      Варшавское шоссе         984\n",
       "2          САО     Дмитровское шоссе         500\n",
       "3          САО   Ленинградское шоссе         500\n",
       "4          ЮАО       Каширское шоссе         448\n",
       "5         СВАО    Алтуфьевское шоссе         332\n",
       "6          ЮАО  Кировоградская улица         330\n",
       "7         ЮЗАО      Варшавское шоссе         328\n",
       "8         ЮЗАО        улица Вавилова         234\n",
       "9         СВАО     Дмитровское шоссе         200\n",
       "10         ЦАО   улица Сущёвский Вал         172\n",
       "11  Зеленоград          Лесная улица         128\n",
       "12  Зеленоград   Ленинградское шоссе         100\n",
       "13        СВАО   улица Сущёвский Вал          86\n",
       "14         ЮАО        улица Вавилова          78\n",
       "15         ЗАО          Лесная улица          64\n",
       "16         ЦАО          Лесная улица          64"
      ]
     },
     "metadata": {},
     "output_type": "display_data"
    },
    {
     "data": {
      "text/html": [
       "<div>\n",
       "<style scoped>\n",
       "    .dataframe tbody tr th:only-of-type {\n",
       "        vertical-align: middle;\n",
       "    }\n",
       "\n",
       "    .dataframe tbody tr th {\n",
       "        vertical-align: top;\n",
       "    }\n",
       "\n",
       "    .dataframe thead th {\n",
       "        text-align: right;\n",
       "    }\n",
       "</style>\n",
       "<table border=\"1\" class=\"dataframe\">\n",
       "  <thead>\n",
       "    <tr style=\"text-align: right;\">\n",
       "      <th></th>\n",
       "      <th>Округ</th>\n",
       "      <th>Количество</th>\n",
       "    </tr>\n",
       "  </thead>\n",
       "  <tbody>\n",
       "    <tr>\n",
       "      <th>0</th>\n",
       "      <td>ЮАО</td>\n",
       "      <td>1840</td>\n",
       "    </tr>\n",
       "    <tr>\n",
       "      <th>1</th>\n",
       "      <td>ЮЗАО</td>\n",
       "      <td>1654</td>\n",
       "    </tr>\n",
       "    <tr>\n",
       "      <th>2</th>\n",
       "      <td>САО</td>\n",
       "      <td>1000</td>\n",
       "    </tr>\n",
       "    <tr>\n",
       "      <th>3</th>\n",
       "      <td>СВАО</td>\n",
       "      <td>618</td>\n",
       "    </tr>\n",
       "    <tr>\n",
       "      <th>4</th>\n",
       "      <td>ЦАО</td>\n",
       "      <td>236</td>\n",
       "    </tr>\n",
       "    <tr>\n",
       "      <th>5</th>\n",
       "      <td>Зеленоград</td>\n",
       "      <td>228</td>\n",
       "    </tr>\n",
       "    <tr>\n",
       "      <th>6</th>\n",
       "      <td>ЗАО</td>\n",
       "      <td>64</td>\n",
       "    </tr>\n",
       "  </tbody>\n",
       "</table>\n",
       "</div>"
      ],
      "text/plain": [
       "        Округ  Количество\n",
       "0         ЮАО        1840\n",
       "1        ЮЗАО        1654\n",
       "2         САО        1000\n",
       "3        СВАО         618\n",
       "4         ЦАО         236\n",
       "5  Зеленоград         228\n",
       "6         ЗАО          64"
      ]
     },
     "metadata": {},
     "output_type": "display_data"
    }
   ],
   "source": [
    "report = pd.DataFrame(df.pivot_table(index='street', values='id', aggfunc='count').sort_values(by='id', ascending=False)\n",
    ".reset_index().rename(columns={'street':'Улица','id':'Количество заведений'})).head(10)\n",
    "\n",
    "top_streets_list = report['Улица']\n",
    "report = df.query('street in @top_streets_list')  # формируем срез по вхождению в список\n",
    "display(pd.DataFrame(report.groupby(['okrug', 'street']).size().sort_values(ascending=False)).reset_index()\n",
    "        .rename(columns={'street':'Улица','okrug':'Округ',0:'Количество'}))\n",
    "\n",
    "display(pd.DataFrame(report['okrug'].value_counts().reset_index().rename(columns={'index':'Округ', 'okrug':'Количество'})))"
   ]
  },
  {
   "cell_type": "markdown",
   "metadata": {},
   "source": [
    "Значительная часть адресов приходится на ЮАО и ЮЗАО, также много адресов относятся к шоссе, что скорее всего связано с их протяженностью.\n",
    "\n",
    "Найдем число улиц с одним объектом общественного питания:"
   ]
  },
  {
   "cell_type": "code",
   "execution_count": 72,
   "metadata": {},
   "outputs": [
    {
     "data": {
      "text/html": [
       "<div>\n",
       "<style scoped>\n",
       "    .dataframe tbody tr th:only-of-type {\n",
       "        vertical-align: middle;\n",
       "    }\n",
       "\n",
       "    .dataframe tbody tr th {\n",
       "        vertical-align: top;\n",
       "    }\n",
       "\n",
       "    .dataframe thead th {\n",
       "        text-align: right;\n",
       "    }\n",
       "</style>\n",
       "<table border=\"1\" class=\"dataframe\">\n",
       "  <thead>\n",
       "    <tr style=\"text-align: right;\">\n",
       "      <th></th>\n",
       "      <th>Улица</th>\n",
       "      <th>Количество заведений</th>\n",
       "    </tr>\n",
       "  </thead>\n",
       "  <tbody>\n",
       "    <tr>\n",
       "      <th>0</th>\n",
       "      <td>1-й Балтийский переулок</td>\n",
       "      <td>1</td>\n",
       "    </tr>\n",
       "    <tr>\n",
       "      <th>1</th>\n",
       "      <td>Норильская улица</td>\n",
       "      <td>1</td>\n",
       "    </tr>\n",
       "    <tr>\n",
       "      <th>2</th>\n",
       "      <td>Новосибирская улица</td>\n",
       "      <td>1</td>\n",
       "    </tr>\n",
       "    <tr>\n",
       "      <th>3</th>\n",
       "      <td>Новорублёвская улица</td>\n",
       "      <td>1</td>\n",
       "    </tr>\n",
       "    <tr>\n",
       "      <th>4</th>\n",
       "      <td>Новопресненский переулок</td>\n",
       "      <td>1</td>\n",
       "    </tr>\n",
       "    <tr>\n",
       "      <th>5</th>\n",
       "      <td>Новоостаповская улица</td>\n",
       "      <td>1</td>\n",
       "    </tr>\n",
       "    <tr>\n",
       "      <th>6</th>\n",
       "      <td>Новолучанская улица</td>\n",
       "      <td>1</td>\n",
       "    </tr>\n",
       "    <tr>\n",
       "      <th>7</th>\n",
       "      <td>Никитский переулок</td>\n",
       "      <td>1</td>\n",
       "    </tr>\n",
       "    <tr>\n",
       "      <th>8</th>\n",
       "      <td>Нижний Кисельный переулок</td>\n",
       "      <td>1</td>\n",
       "    </tr>\n",
       "    <tr>\n",
       "      <th>9</th>\n",
       "      <td>Несвижский переулок</td>\n",
       "      <td>1</td>\n",
       "    </tr>\n",
       "  </tbody>\n",
       "</table>\n",
       "</div>"
      ],
      "text/plain": [
       "                       Улица  Количество заведений\n",
       "0    1-й Балтийский переулок                     1\n",
       "1           Норильская улица                     1\n",
       "2        Новосибирская улица                     1\n",
       "3       Новорублёвская улица                     1\n",
       "4   Новопресненский переулок                     1\n",
       "5      Новоостаповская улица                     1\n",
       "6        Новолучанская улица                     1\n",
       "7         Никитский переулок                     1\n",
       "8  Нижний Кисельный переулок                     1\n",
       "9        Несвижский переулок                     1"
      ]
     },
     "metadata": {},
     "output_type": "display_data"
    }
   ],
   "source": [
    "report = pd.DataFrame(df.pivot_table(index='street', values='id', aggfunc='count').sort_values(by='id')\n",
    ".reset_index().rename(columns={'street':'Улица','id':'Количество заведений'}))\n",
    "report = report[report['Количество заведений'] == 1].head(10)\n",
    "display(report)"
   ]
  },
  {
   "cell_type": "code",
   "execution_count": 73,
   "metadata": {},
   "outputs": [
    {
     "data": {
      "text/html": [
       "<div>\n",
       "<style scoped>\n",
       "    .dataframe tbody tr th:only-of-type {\n",
       "        vertical-align: middle;\n",
       "    }\n",
       "\n",
       "    .dataframe tbody tr th {\n",
       "        vertical-align: top;\n",
       "    }\n",
       "\n",
       "    .dataframe thead th {\n",
       "        text-align: right;\n",
       "    }\n",
       "</style>\n",
       "<table border=\"1\" class=\"dataframe\">\n",
       "  <thead>\n",
       "    <tr style=\"text-align: right;\">\n",
       "      <th></th>\n",
       "      <th>Округ</th>\n",
       "      <th>Улица</th>\n",
       "      <th>Количество</th>\n",
       "    </tr>\n",
       "  </thead>\n",
       "  <tbody>\n",
       "    <tr>\n",
       "      <th>0</th>\n",
       "      <td>ВАО</td>\n",
       "      <td>Новосибирская улица</td>\n",
       "      <td>1</td>\n",
       "    </tr>\n",
       "    <tr>\n",
       "      <th>1</th>\n",
       "      <td>ЗАО</td>\n",
       "      <td>Новолучанская улица</td>\n",
       "      <td>1</td>\n",
       "    </tr>\n",
       "    <tr>\n",
       "      <th>2</th>\n",
       "      <td>ЗАО</td>\n",
       "      <td>Новорублёвская улица</td>\n",
       "      <td>1</td>\n",
       "    </tr>\n",
       "    <tr>\n",
       "      <th>3</th>\n",
       "      <td>САО</td>\n",
       "      <td>1-й Балтийский переулок</td>\n",
       "      <td>1</td>\n",
       "    </tr>\n",
       "    <tr>\n",
       "      <th>4</th>\n",
       "      <td>СВАО</td>\n",
       "      <td>Норильская улица</td>\n",
       "      <td>1</td>\n",
       "    </tr>\n",
       "    <tr>\n",
       "      <th>5</th>\n",
       "      <td>ЦАО</td>\n",
       "      <td>Несвижский переулок</td>\n",
       "      <td>1</td>\n",
       "    </tr>\n",
       "    <tr>\n",
       "      <th>6</th>\n",
       "      <td>ЦАО</td>\n",
       "      <td>Нижний Кисельный переулок</td>\n",
       "      <td>1</td>\n",
       "    </tr>\n",
       "    <tr>\n",
       "      <th>7</th>\n",
       "      <td>ЦАО</td>\n",
       "      <td>Никитский переулок</td>\n",
       "      <td>1</td>\n",
       "    </tr>\n",
       "    <tr>\n",
       "      <th>8</th>\n",
       "      <td>ЦАО</td>\n",
       "      <td>Новопресненский переулок</td>\n",
       "      <td>1</td>\n",
       "    </tr>\n",
       "    <tr>\n",
       "      <th>9</th>\n",
       "      <td>ЮВАО</td>\n",
       "      <td>Новоостаповская улица</td>\n",
       "      <td>1</td>\n",
       "    </tr>\n",
       "  </tbody>\n",
       "</table>\n",
       "</div>"
      ],
      "text/plain": [
       "  Округ                      Улица  Количество\n",
       "0   ВАО        Новосибирская улица           1\n",
       "1   ЗАО        Новолучанская улица           1\n",
       "2   ЗАО       Новорублёвская улица           1\n",
       "3   САО    1-й Балтийский переулок           1\n",
       "4  СВАО           Норильская улица           1\n",
       "5   ЦАО        Несвижский переулок           1\n",
       "6   ЦАО  Нижний Кисельный переулок           1\n",
       "7   ЦАО         Никитский переулок           1\n",
       "8   ЦАО   Новопресненский переулок           1\n",
       "9  ЮВАО      Новоостаповская улица           1"
      ]
     },
     "metadata": {},
     "output_type": "display_data"
    },
    {
     "data": {
      "text/html": [
       "<div>\n",
       "<style scoped>\n",
       "    .dataframe tbody tr th:only-of-type {\n",
       "        vertical-align: middle;\n",
       "    }\n",
       "\n",
       "    .dataframe tbody tr th {\n",
       "        vertical-align: top;\n",
       "    }\n",
       "\n",
       "    .dataframe thead th {\n",
       "        text-align: right;\n",
       "    }\n",
       "</style>\n",
       "<table border=\"1\" class=\"dataframe\">\n",
       "  <thead>\n",
       "    <tr style=\"text-align: right;\">\n",
       "      <th></th>\n",
       "      <th>Округ</th>\n",
       "      <th>Количество</th>\n",
       "    </tr>\n",
       "  </thead>\n",
       "  <tbody>\n",
       "    <tr>\n",
       "      <th>0</th>\n",
       "      <td>ЦАО</td>\n",
       "      <td>4</td>\n",
       "    </tr>\n",
       "    <tr>\n",
       "      <th>1</th>\n",
       "      <td>ЗАО</td>\n",
       "      <td>2</td>\n",
       "    </tr>\n",
       "    <tr>\n",
       "      <th>2</th>\n",
       "      <td>САО</td>\n",
       "      <td>1</td>\n",
       "    </tr>\n",
       "    <tr>\n",
       "      <th>3</th>\n",
       "      <td>ВАО</td>\n",
       "      <td>1</td>\n",
       "    </tr>\n",
       "    <tr>\n",
       "      <th>4</th>\n",
       "      <td>СВАО</td>\n",
       "      <td>1</td>\n",
       "    </tr>\n",
       "    <tr>\n",
       "      <th>5</th>\n",
       "      <td>ЮВАО</td>\n",
       "      <td>1</td>\n",
       "    </tr>\n",
       "  </tbody>\n",
       "</table>\n",
       "</div>"
      ],
      "text/plain": [
       "  Округ  Количество\n",
       "0   ЦАО           4\n",
       "1   ЗАО           2\n",
       "2   САО           1\n",
       "3   ВАО           1\n",
       "4  СВАО           1\n",
       "5  ЮВАО           1"
      ]
     },
     "metadata": {},
     "output_type": "display_data"
    }
   ],
   "source": [
    "bottom_streets_list = report['Улица']\n",
    "report = df.query('street in @bottom_streets_list')  # формируем срез по вхождению в список\n",
    "display(pd.DataFrame(report.groupby(['okrug', 'street']).size().sort_values(ascending=False)).reset_index()\n",
    "        .rename(columns={'street':'Улица','okrug':'Округ',0:'Количество'}))\n",
    "\n",
    "display(pd.DataFrame(report['okrug'].value_counts().reset_index().rename(columns={'index':'Округ', 'okrug':'Количество'})))"
   ]
  },
  {
   "cell_type": "markdown",
   "metadata": {},
   "source": [
    "Значительная часть данных адресов приходится на ЦАО.\n",
    "\n",
    "Изучим распределение количества посадочных мест для улиц с большим количеством объектов общественного питания:"
   ]
  },
  {
   "cell_type": "code",
   "execution_count": 74,
   "metadata": {},
   "outputs": [
    {
     "data": {
      "image/png": "[encoded data removed]",
      "text/plain": [
       "<Figure size 432x288 with 1 Axes>"
      ]
     },
     "metadata": {
      "needs_background": "light"
     },
     "output_type": "display_data"
    }
   ],
   "source": [
    "report = pd.DataFrame(df.pivot_table(index='street', values='id', aggfunc='count').sort_values(by='id', ascending=False)\n",
    ".reset_index().rename(columns={'street':'Улица','id':'Количество заведений'})).head(30)\n",
    "\n",
    "top_30_list = report['Улица']  # список топ-30 улиц\n",
    "report = df.query('street in @top_30_list')  # формируем срез по вхождению в список\n",
    "\n",
    "ax = sns.distplot(report['number'])\n",
    "ax.set_xlim([0, 300])\n",
    "plt.xlabel('Количество посадочных мест')\n",
    "plt.title('Гистограмма распределения количества посадочных мест на ТОП-30 улиц по количеству заведений', fontsize=14, pad=20)\n",
    "sns.despine()"
   ]
  },
  {
   "cell_type": "markdown",
   "metadata": {},
   "source": [
    "Распределение количества посадочных мест для улиц с большим количеством объектов общественного питания в целом соответветствует распределению посадочных мест в сетевых заведениях. Для данных заведений также характерно малое число посадочных мест."
   ]
  },
  {
   "cell_type": "markdown",
   "metadata": {},
   "source": [
    "## Общий вывод\n",
    "\n",
    "В данном исследовании был проанализирован массив данных о заведениях общественного питания Москвы. В процессе предобработки данные были валидированы и проверены на наличие ошибок и артефактов. В ходе исследования были рассчитаны показатели, характеризующие заведения общественного питания, изучены закономерности распределения значений. В процессе анализа данных было установлено, что: \n",
    "- В Москве больше всего заведений, относящихся к типу кафе, а меньше всего отделов кулинарии в магазинах\n",
    "- Доля сетевых заведений составляет 19.3%\n",
    "- Наибольшая доля сетевых заведений приходится на предприятия быстрого обслуживания (более 40%), а наименьшая на столовые (около 1%) \n",
    "- Для сетевых заведений характерно малое число посадочных мест\n",
    "- В среднем самое большое количество посадочных мест приходится на столовые\n",
    "- Самая высокая плотность заведений общественного питания на 1 улицу наблюдается на юге Москвы (ЮАО и ЮЗАО), а наименьшая в ЦАО\n",
    "- Для заведений на улицах с большим количеством объектов общественного питания характерно малое число посадочных мест\n",
    "\n",
    "Роботизация кафе целесообразна при большом количестве посадочных мест и посетителей за счет эффекта масштаба, но как показал анализ данных, большая часть действующих заведений располагает малым количеством посадочных мест. Сама концпепция роботизированного кафе не предполагает массового потока клиентов по примеру столовых и способна привлечь клиентов за счет «вау-эффекта». Есть существенный риск снижения интереса к такому заведению со временем. Принимая во внимания вышесказанное, инициатива является высокорискованной."
   ]
  }
 ],
 "metadata": {
  "ExecuteTimeLog": [
   {
    "duration": 1088,
    "start_time": "2022-03-01T22:53:46.864Z"
   },
   {
    "duration": 10,
    "start_time": "2022-03-01T22:54:09.569Z"
   },
   {
    "duration": 9,
    "start_time": "2022-03-01T22:54:33.757Z"
   },
   {
    "duration": 25,
    "start_time": "2022-03-01T22:59:42.041Z"
   },
   {
    "duration": 14,
    "start_time": "2022-03-01T22:59:53.902Z"
   },
   {
    "duration": 268,
    "start_time": "2022-03-01T23:06:30.826Z"
   },
   {
    "duration": 4,
    "start_time": "2022-03-01T23:07:17.064Z"
   },
   {
    "duration": 4279,
    "start_time": "2022-03-01T23:07:50.918Z"
   },
   {
    "duration": 40,
    "start_time": "2022-03-01T23:08:48.527Z"
   },
   {
    "duration": 373,
    "start_time": "2022-03-01T23:19:02.673Z"
   },
   {
    "duration": 198,
    "start_time": "2022-03-01T23:19:16.042Z"
   },
   {
    "duration": 185,
    "start_time": "2022-03-01T23:20:24.614Z"
   },
   {
    "duration": 2629,
    "start_time": "2022-03-01T23:22:34.104Z"
   },
   {
    "duration": 3048,
    "start_time": "2022-03-01T23:23:22.535Z"
   },
   {
    "duration": 2743,
    "start_time": "2022-03-01T23:24:35.864Z"
   },
   {
    "duration": 2771,
    "start_time": "2022-03-01T23:24:58.471Z"
   },
   {
    "duration": 2752,
    "start_time": "2022-03-01T23:25:25.208Z"
   },
   {
    "duration": 202,
    "start_time": "2022-03-01T23:28:19.393Z"
   },
   {
    "duration": 184,
    "start_time": "2022-03-01T23:28:25.202Z"
   },
   {
    "duration": 175,
    "start_time": "2022-03-01T23:28:57.118Z"
   },
   {
    "duration": 335,
    "start_time": "2022-03-01T23:29:06.546Z"
   },
   {
    "duration": 390,
    "start_time": "2022-03-01T23:29:14.616Z"
   },
   {
    "duration": 432,
    "start_time": "2022-03-01T23:29:44.613Z"
   },
   {
    "duration": 349,
    "start_time": "2022-03-01T23:30:46.849Z"
   },
   {
    "duration": 433,
    "start_time": "2022-03-01T23:31:10.368Z"
   },
   {
    "duration": 190,
    "start_time": "2022-03-01T23:31:18.346Z"
   },
   {
    "duration": 198,
    "start_time": "2022-03-01T23:32:35.053Z"
   },
   {
    "duration": 189,
    "start_time": "2022-03-01T23:33:47.447Z"
   },
   {
    "duration": 201,
    "start_time": "2022-03-01T23:33:52.636Z"
   },
   {
    "duration": 198,
    "start_time": "2022-03-01T23:33:56.736Z"
   },
   {
    "duration": 194,
    "start_time": "2022-03-01T23:34:38.455Z"
   },
   {
    "duration": 195,
    "start_time": "2022-03-01T23:34:48.288Z"
   },
   {
    "duration": 210,
    "start_time": "2022-03-01T23:34:53.637Z"
   },
   {
    "duration": 194,
    "start_time": "2022-03-01T23:35:00.677Z"
   },
   {
    "duration": 269,
    "start_time": "2022-03-01T23:35:36.050Z"
   },
   {
    "duration": 199,
    "start_time": "2022-03-01T23:36:20.220Z"
   },
   {
    "duration": 186,
    "start_time": "2022-03-01T23:36:40.360Z"
   },
   {
    "duration": 192,
    "start_time": "2022-03-01T23:38:52.123Z"
   },
   {
    "duration": 300,
    "start_time": "2022-03-01T23:40:52.368Z"
   },
   {
    "duration": 308,
    "start_time": "2022-03-01T23:41:05.119Z"
   },
   {
    "duration": -8,
    "start_time": "2022-03-01T23:43:09.709Z"
   },
   {
    "duration": -68,
    "start_time": "2022-03-01T23:43:20.213Z"
   },
   {
    "duration": 141,
    "start_time": "2022-03-01T23:43:20.959Z"
   },
   {
    "duration": 171,
    "start_time": "2022-03-01T23:43:49.811Z"
   },
   {
    "duration": 147,
    "start_time": "2022-03-01T23:45:07.588Z"
   },
   {
    "duration": 144,
    "start_time": "2022-03-01T23:46:04.925Z"
   },
   {
    "duration": 141,
    "start_time": "2022-03-01T23:47:46.354Z"
   },
   {
    "duration": 71,
    "start_time": "2022-03-01T23:48:26.095Z"
   },
   {
    "duration": 60,
    "start_time": "2022-03-01T23:48:37.907Z"
   },
   {
    "duration": 64,
    "start_time": "2022-03-01T23:49:38.494Z"
   },
   {
    "duration": 200,
    "start_time": "2022-03-01T23:50:38.603Z"
   },
   {
    "duration": 177,
    "start_time": "2022-03-01T23:50:52.293Z"
   },
   {
    "duration": 178,
    "start_time": "2022-03-01T23:51:04.938Z"
   },
   {
    "duration": 135,
    "start_time": "2022-03-01T23:51:24.553Z"
   },
   {
    "duration": 136,
    "start_time": "2022-03-01T23:54:21.363Z"
   },
   {
    "duration": 138,
    "start_time": "2022-03-01T23:54:38.981Z"
   },
   {
    "duration": 137,
    "start_time": "2022-03-01T23:57:28.067Z"
   },
   {
    "duration": 139,
    "start_time": "2022-03-01T23:57:34.834Z"
   },
   {
    "duration": 138,
    "start_time": "2022-03-01T23:57:50.576Z"
   },
   {
    "duration": 5,
    "start_time": "2022-03-02T00:04:34.140Z"
   },
   {
    "duration": 148,
    "start_time": "2022-03-02T00:05:46.833Z"
   },
   {
    "duration": 50,
    "start_time": "2022-03-02T00:09:37.638Z"
   },
   {
    "duration": 8,
    "start_time": "2022-03-02T00:09:37.690Z"
   },
   {
    "duration": 18,
    "start_time": "2022-03-02T00:09:37.700Z"
   },
   {
    "duration": 58,
    "start_time": "2022-03-02T00:09:58.872Z"
   },
   {
    "duration": 8,
    "start_time": "2022-03-02T00:10:07.926Z"
   },
   {
    "duration": 214,
    "start_time": "2022-03-02T00:10:15.052Z"
   },
   {
    "duration": 150,
    "start_time": "2022-03-02T00:10:17.372Z"
   },
   {
    "duration": 53,
    "start_time": "2022-03-02T00:10:35.315Z"
   },
   {
    "duration": 9,
    "start_time": "2022-03-02T00:10:35.370Z"
   },
   {
    "duration": 20,
    "start_time": "2022-03-02T00:10:35.381Z"
   },
   {
    "duration": 61,
    "start_time": "2022-03-02T00:10:35.403Z"
   },
   {
    "duration": 6,
    "start_time": "2022-03-02T00:10:35.466Z"
   },
   {
    "duration": 137,
    "start_time": "2022-03-02T00:10:43.749Z"
   },
   {
    "duration": 7,
    "start_time": "2022-03-02T00:10:52.076Z"
   },
   {
    "duration": 201,
    "start_time": "2022-03-02T00:10:55.800Z"
   },
   {
    "duration": 144,
    "start_time": "2022-03-02T00:10:57.634Z"
   },
   {
    "duration": 40,
    "start_time": "2022-03-02T00:11:15.926Z"
   },
   {
    "duration": 7,
    "start_time": "2022-03-02T00:11:35.322Z"
   },
   {
    "duration": 194,
    "start_time": "2022-03-02T00:11:38.592Z"
   },
   {
    "duration": 130,
    "start_time": "2022-03-02T00:11:40.514Z"
   },
   {
    "duration": 6,
    "start_time": "2022-03-02T00:11:53.700Z"
   },
   {
    "duration": 137,
    "start_time": "2022-03-02T00:11:55.783Z"
   },
   {
    "duration": 49,
    "start_time": "2022-03-02T00:13:05.350Z"
   },
   {
    "duration": 8,
    "start_time": "2022-03-02T00:13:05.401Z"
   },
   {
    "duration": 26,
    "start_time": "2022-03-02T00:13:05.411Z"
   },
   {
    "duration": 45,
    "start_time": "2022-03-02T00:13:05.440Z"
   },
   {
    "duration": 7,
    "start_time": "2022-03-02T00:13:05.487Z"
   },
   {
    "duration": 251,
    "start_time": "2022-03-02T00:13:05.496Z"
   },
   {
    "duration": 157,
    "start_time": "2022-03-02T00:13:05.749Z"
   },
   {
    "duration": 48,
    "start_time": "2022-03-02T00:13:19.438Z"
   },
   {
    "duration": 10,
    "start_time": "2022-03-02T00:13:19.488Z"
   },
   {
    "duration": 40,
    "start_time": "2022-03-02T00:13:19.500Z"
   },
   {
    "duration": 44,
    "start_time": "2022-03-02T00:13:19.542Z"
   },
   {
    "duration": 3,
    "start_time": "2022-03-02T00:13:19.587Z"
   },
   {
    "duration": 242,
    "start_time": "2022-03-02T00:13:19.591Z"
   },
   {
    "duration": 150,
    "start_time": "2022-03-02T00:13:19.837Z"
   },
   {
    "duration": 178,
    "start_time": "2022-03-02T00:14:02.625Z"
   },
   {
    "duration": 7,
    "start_time": "2022-03-02T00:22:52.814Z"
   },
   {
    "duration": 127,
    "start_time": "2022-03-02T00:23:21.126Z"
   },
   {
    "duration": 125,
    "start_time": "2022-03-02T00:23:55.625Z"
   },
   {
    "duration": 133,
    "start_time": "2022-03-02T00:24:22.949Z"
   },
   {
    "duration": 176,
    "start_time": "2022-03-02T00:26:50.835Z"
   },
   {
    "duration": 16,
    "start_time": "2022-03-02T00:27:03.877Z"
   },
   {
    "duration": 16,
    "start_time": "2022-03-02T00:28:12.222Z"
   },
   {
    "duration": 90,
    "start_time": "2022-03-02T00:31:54.907Z"
   },
   {
    "duration": 234,
    "start_time": "2022-03-02T00:32:00.075Z"
   },
   {
    "duration": 231,
    "start_time": "2022-03-02T00:33:53.502Z"
   },
   {
    "duration": 222,
    "start_time": "2022-03-02T00:37:26.213Z"
   },
   {
    "duration": 135,
    "start_time": "2022-03-02T00:37:37.168Z"
   },
   {
    "duration": 197,
    "start_time": "2022-03-02T00:37:42.517Z"
   },
   {
    "duration": 372,
    "start_time": "2022-03-02T00:40:12.612Z"
   },
   {
    "duration": 201,
    "start_time": "2022-03-02T00:40:34.539Z"
   },
   {
    "duration": 418,
    "start_time": "2022-03-02T00:41:30.948Z"
   },
   {
    "duration": 180,
    "start_time": "2022-03-02T00:47:54.874Z"
   },
   {
    "duration": 211,
    "start_time": "2022-03-02T00:48:01.121Z"
   },
   {
    "duration": 182,
    "start_time": "2022-03-02T00:48:27.624Z"
   },
   {
    "duration": 4,
    "start_time": "2022-03-02T00:48:42.286Z"
   },
   {
    "duration": 215,
    "start_time": "2022-03-02T00:50:49.482Z"
   },
   {
    "duration": 221,
    "start_time": "2022-03-02T01:03:13.003Z"
   },
   {
    "duration": 411,
    "start_time": "2022-03-02T01:07:26.406Z"
   },
   {
    "duration": 36057,
    "start_time": "2022-03-02T01:08:40.573Z"
   },
   {
    "duration": 1830,
    "start_time": "2022-03-02T01:10:12.850Z"
   },
   {
    "duration": 50,
    "start_time": "2022-03-02T01:10:20.402Z"
   },
   {
    "duration": 9,
    "start_time": "2022-03-02T01:10:20.454Z"
   },
   {
    "duration": 19,
    "start_time": "2022-03-02T01:10:20.465Z"
   },
   {
    "duration": 67,
    "start_time": "2022-03-02T01:10:20.486Z"
   },
   {
    "duration": 222,
    "start_time": "2022-03-02T01:10:20.555Z"
   },
   {
    "duration": 151,
    "start_time": "2022-03-02T01:10:20.778Z"
   },
   {
    "duration": 7,
    "start_time": "2022-03-02T01:10:20.931Z"
   },
   {
    "duration": 250,
    "start_time": "2022-03-02T01:10:20.940Z"
   },
   {
    "duration": 1874,
    "start_time": "2022-03-02T01:10:26.429Z"
   },
   {
    "duration": 262,
    "start_time": "2022-03-02T01:12:36.137Z"
   },
   {
    "duration": 239,
    "start_time": "2022-03-02T01:14:04.037Z"
   },
   {
    "duration": 245,
    "start_time": "2022-03-02T01:14:17.063Z"
   },
   {
    "duration": 244,
    "start_time": "2022-03-02T01:14:23.119Z"
   },
   {
    "duration": 251,
    "start_time": "2022-03-02T01:14:32.808Z"
   },
   {
    "duration": 248,
    "start_time": "2022-03-02T01:14:42.959Z"
   },
   {
    "duration": 242,
    "start_time": "2022-03-02T01:14:59.242Z"
   },
   {
    "duration": 254,
    "start_time": "2022-03-02T01:15:18.774Z"
   },
   {
    "duration": 238,
    "start_time": "2022-03-02T01:15:29.409Z"
   },
   {
    "duration": 262,
    "start_time": "2022-03-02T01:15:34.940Z"
   },
   {
    "duration": 239,
    "start_time": "2022-03-02T01:15:41.115Z"
   },
   {
    "duration": 613,
    "start_time": "2022-03-02T01:22:27.491Z"
   },
   {
    "duration": 169,
    "start_time": "2022-03-02T01:23:36.292Z"
   },
   {
    "duration": 618,
    "start_time": "2022-03-02T01:30:46.989Z"
   },
   {
    "duration": 639,
    "start_time": "2022-03-02T01:31:44.974Z"
   },
   {
    "duration": 616,
    "start_time": "2022-03-02T01:33:07.026Z"
   },
   {
    "duration": 606,
    "start_time": "2022-03-02T01:33:22.627Z"
   },
   {
    "duration": 622,
    "start_time": "2022-03-02T01:33:27.714Z"
   },
   {
    "duration": 615,
    "start_time": "2022-03-02T01:33:38.114Z"
   },
   {
    "duration": 600,
    "start_time": "2022-03-02T01:33:43.641Z"
   },
   {
    "duration": 606,
    "start_time": "2022-03-02T01:34:46.431Z"
   },
   {
    "duration": 235,
    "start_time": "2022-03-02T01:35:26.360Z"
   },
   {
    "duration": 244,
    "start_time": "2022-03-02T01:35:30.623Z"
   },
   {
    "duration": 247,
    "start_time": "2022-03-02T01:35:49.902Z"
   },
   {
    "duration": 260,
    "start_time": "2022-03-02T01:36:42.352Z"
   },
   {
    "duration": 265,
    "start_time": "2022-03-02T01:37:00.767Z"
   },
   {
    "duration": 5,
    "start_time": "2022-03-02T01:37:56.225Z"
   },
   {
    "duration": 1233,
    "start_time": "2022-03-02T01:46:07.463Z"
   },
   {
    "duration": 50,
    "start_time": "2022-03-02T01:46:25.502Z"
   },
   {
    "duration": 16,
    "start_time": "2022-03-02T01:46:37.803Z"
   },
   {
    "duration": 42,
    "start_time": "2022-03-02T01:49:33.455Z"
   },
   {
    "duration": 8,
    "start_time": "2022-03-02T01:49:33.499Z"
   },
   {
    "duration": 17,
    "start_time": "2022-03-02T01:49:33.509Z"
   },
   {
    "duration": 41,
    "start_time": "2022-03-02T01:49:33.528Z"
   },
   {
    "duration": 215,
    "start_time": "2022-03-02T01:49:33.570Z"
   },
   {
    "duration": 136,
    "start_time": "2022-03-02T01:49:33.787Z"
   },
   {
    "duration": 14,
    "start_time": "2022-03-02T01:49:33.924Z"
   },
   {
    "duration": 224,
    "start_time": "2022-03-02T01:49:33.939Z"
   },
   {
    "duration": 263,
    "start_time": "2022-03-02T01:49:34.165Z"
   },
   {
    "duration": 617,
    "start_time": "2022-03-02T01:49:34.429Z"
   },
   {
    "duration": 42,
    "start_time": "2022-03-02T01:49:35.048Z"
   },
   {
    "duration": 15,
    "start_time": "2022-03-02T01:49:35.092Z"
   },
   {
    "duration": 84,
    "start_time": "2022-03-02T01:52:45.536Z"
   },
   {
    "duration": 219,
    "start_time": "2022-03-02T01:52:53.396Z"
   },
   {
    "duration": 64,
    "start_time": "2022-03-02T01:53:59.580Z"
   },
   {
    "duration": 58,
    "start_time": "2022-03-02T01:54:23.616Z"
   },
   {
    "duration": 67,
    "start_time": "2022-03-02T01:54:52.546Z"
   },
   {
    "duration": 61,
    "start_time": "2022-03-02T01:55:03.934Z"
   },
   {
    "duration": 55,
    "start_time": "2022-03-02T01:55:34.458Z"
   },
   {
    "duration": 60,
    "start_time": "2022-03-02T01:56:46.556Z"
   },
   {
    "duration": 16,
    "start_time": "2022-03-02T01:57:00.091Z"
   },
   {
    "duration": 17,
    "start_time": "2022-03-02T01:57:17.765Z"
   },
   {
    "duration": 18,
    "start_time": "2022-03-02T01:57:24.377Z"
   },
   {
    "duration": 18,
    "start_time": "2022-03-02T01:57:57.172Z"
   },
   {
    "duration": 18,
    "start_time": "2022-03-02T01:58:06.535Z"
   },
   {
    "duration": 19,
    "start_time": "2022-03-02T01:58:18.439Z"
   },
   {
    "duration": 193,
    "start_time": "2022-03-02T02:00:49.217Z"
   },
   {
    "duration": 198,
    "start_time": "2022-03-02T02:01:02.737Z"
   },
   {
    "duration": 190,
    "start_time": "2022-03-02T02:01:21.879Z"
   },
   {
    "duration": 230,
    "start_time": "2022-03-02T02:01:39.019Z"
   },
   {
    "duration": 237,
    "start_time": "2022-03-02T02:01:49.096Z"
   },
   {
    "duration": 227,
    "start_time": "2022-03-02T02:03:18.302Z"
   },
   {
    "duration": 237,
    "start_time": "2022-03-02T02:03:24.863Z"
   },
   {
    "duration": 228,
    "start_time": "2022-03-02T02:03:40.497Z"
   },
   {
    "duration": 185,
    "start_time": "2022-03-02T02:04:24.784Z"
   },
   {
    "duration": 410,
    "start_time": "2022-03-02T02:04:53.333Z"
   },
   {
    "duration": 231,
    "start_time": "2022-03-02T02:05:09.535Z"
   },
   {
    "duration": 230,
    "start_time": "2022-03-02T02:05:54.898Z"
   },
   {
    "duration": 21,
    "start_time": "2022-03-02T02:10:51.188Z"
   },
   {
    "duration": 21,
    "start_time": "2022-03-02T02:11:07.343Z"
   },
   {
    "duration": 23,
    "start_time": "2022-03-02T02:11:16.954Z"
   },
   {
    "duration": 20,
    "start_time": "2022-03-02T02:12:43.296Z"
   },
   {
    "duration": 17,
    "start_time": "2022-03-02T02:13:41.906Z"
   },
   {
    "duration": 19,
    "start_time": "2022-03-02T02:13:53.471Z"
   },
   {
    "duration": 49,
    "start_time": "2022-03-02T02:14:02.817Z"
   },
   {
    "duration": 8,
    "start_time": "2022-03-02T02:14:02.868Z"
   },
   {
    "duration": 22,
    "start_time": "2022-03-02T02:14:02.878Z"
   },
   {
    "duration": 60,
    "start_time": "2022-03-02T02:14:02.902Z"
   },
   {
    "duration": 213,
    "start_time": "2022-03-02T02:14:02.964Z"
   },
   {
    "duration": 145,
    "start_time": "2022-03-02T02:14:03.179Z"
   },
   {
    "duration": 13,
    "start_time": "2022-03-02T02:14:03.326Z"
   },
   {
    "duration": 233,
    "start_time": "2022-03-02T02:14:03.340Z"
   },
   {
    "duration": 279,
    "start_time": "2022-03-02T02:14:03.575Z"
   },
   {
    "duration": 630,
    "start_time": "2022-03-02T02:14:03.856Z"
   },
   {
    "duration": 56,
    "start_time": "2022-03-02T02:14:04.488Z"
   },
   {
    "duration": 236,
    "start_time": "2022-03-02T02:14:04.546Z"
   },
   {
    "duration": 22,
    "start_time": "2022-03-02T02:14:04.784Z"
   },
   {
    "duration": 23,
    "start_time": "2022-03-02T02:14:12.004Z"
   },
   {
    "duration": 21,
    "start_time": "2022-03-02T02:14:17.139Z"
   },
   {
    "duration": 22,
    "start_time": "2022-03-02T02:14:20.424Z"
   },
   {
    "duration": 19,
    "start_time": "2022-03-02T02:14:26.423Z"
   },
   {
    "duration": 190,
    "start_time": "2022-03-02T02:15:35.394Z"
   },
   {
    "duration": 21,
    "start_time": "2022-03-02T02:15:42.625Z"
   },
   {
    "duration": 187,
    "start_time": "2022-03-02T02:22:06.112Z"
   },
   {
    "duration": 25,
    "start_time": "2022-03-02T02:22:17.410Z"
   },
   {
    "duration": 29,
    "start_time": "2022-03-02T02:22:42.484Z"
   },
   {
    "duration": 45,
    "start_time": "2022-03-02T02:22:59.695Z"
   },
   {
    "duration": 10,
    "start_time": "2022-03-02T02:22:59.742Z"
   },
   {
    "duration": 18,
    "start_time": "2022-03-02T02:22:59.755Z"
   },
   {
    "duration": 77,
    "start_time": "2022-03-02T02:22:59.776Z"
   },
   {
    "duration": 229,
    "start_time": "2022-03-02T02:22:59.855Z"
   },
   {
    "duration": 157,
    "start_time": "2022-03-02T02:23:00.087Z"
   },
   {
    "duration": 8,
    "start_time": "2022-03-02T02:23:00.246Z"
   },
   {
    "duration": 241,
    "start_time": "2022-03-02T02:23:00.256Z"
   },
   {
    "duration": 270,
    "start_time": "2022-03-02T02:23:00.500Z"
   },
   {
    "duration": 622,
    "start_time": "2022-03-02T02:23:00.772Z"
   },
   {
    "duration": 53,
    "start_time": "2022-03-02T02:23:01.396Z"
   },
   {
    "duration": 253,
    "start_time": "2022-03-02T02:23:01.451Z"
   },
   {
    "duration": 34,
    "start_time": "2022-03-02T02:23:01.706Z"
   },
   {
    "duration": 42,
    "start_time": "2022-03-02T02:23:01.742Z"
   },
   {
    "duration": 177,
    "start_time": "2022-03-02T02:23:01.786Z"
   },
   {
    "duration": 25,
    "start_time": "2022-03-02T02:23:27.970Z"
   },
   {
    "duration": 28,
    "start_time": "2022-03-02T02:24:50.167Z"
   },
   {
    "duration": 269,
    "start_time": "2022-03-02T02:25:20.003Z"
   },
   {
    "duration": 270,
    "start_time": "2022-03-02T02:25:38.640Z"
   },
   {
    "duration": 228,
    "start_time": "2022-03-02T02:25:55.412Z"
   },
   {
    "duration": 220,
    "start_time": "2022-03-02T02:26:02.688Z"
   },
   {
    "duration": 272,
    "start_time": "2022-03-02T02:26:06.737Z"
   },
   {
    "duration": 347,
    "start_time": "2022-03-02T02:26:11.849Z"
   },
   {
    "duration": 262,
    "start_time": "2022-03-02T02:26:19.108Z"
   },
   {
    "duration": 251,
    "start_time": "2022-03-02T02:26:51.413Z"
   },
   {
    "duration": 266,
    "start_time": "2022-03-02T02:27:18.242Z"
   },
   {
    "duration": 210,
    "start_time": "2022-03-02T02:27:21.945Z"
   },
   {
    "duration": 255,
    "start_time": "2022-03-02T02:27:26.437Z"
   },
   {
    "duration": 1307,
    "start_time": "2022-03-02T11:58:45.523Z"
   },
   {
    "duration": 10,
    "start_time": "2022-03-02T11:58:49.362Z"
   },
   {
    "duration": 20,
    "start_time": "2022-03-02T11:59:27.151Z"
   },
   {
    "duration": 230,
    "start_time": "2022-03-02T13:24:39.089Z"
   },
   {
    "duration": 84,
    "start_time": "2022-03-02T13:32:31.854Z"
   },
   {
    "duration": 75,
    "start_time": "2022-03-02T13:32:35.578Z"
   },
   {
    "duration": 8,
    "start_time": "2022-03-02T13:32:42.326Z"
   },
   {
    "duration": 319,
    "start_time": "2022-03-02T13:32:45.922Z"
   },
   {
    "duration": 8,
    "start_time": "2022-03-02T13:32:56.308Z"
   },
   {
    "duration": 4,
    "start_time": "2022-03-02T13:33:35.943Z"
   },
   {
    "duration": 156,
    "start_time": "2022-03-02T14:06:09.014Z"
   },
   {
    "duration": 240,
    "start_time": "2022-03-02T14:09:25.564Z"
   },
   {
    "duration": 755,
    "start_time": "2022-03-02T14:18:01.752Z"
   },
   {
    "duration": 233,
    "start_time": "2022-03-02T14:21:22.098Z"
   },
   {
    "duration": 46,
    "start_time": "2022-03-02T14:21:28.589Z"
   },
   {
    "duration": 239,
    "start_time": "2022-03-02T14:21:30.569Z"
   },
   {
    "duration": 50,
    "start_time": "2022-03-02T14:28:54.377Z"
   },
   {
    "duration": 9,
    "start_time": "2022-03-02T14:28:54.429Z"
   },
   {
    "duration": 24,
    "start_time": "2022-03-02T14:28:54.440Z"
   },
   {
    "duration": 49,
    "start_time": "2022-03-02T14:28:56.029Z"
   },
   {
    "duration": 205,
    "start_time": "2022-03-02T14:28:56.080Z"
   },
   {
    "duration": 236,
    "start_time": "2022-03-02T14:28:56.287Z"
   },
   {
    "duration": 248,
    "start_time": "2022-03-02T14:29:01.255Z"
   },
   {
    "duration": 301,
    "start_time": "2022-03-02T14:29:01.506Z"
   },
   {
    "duration": 762,
    "start_time": "2022-03-02T14:29:01.810Z"
   },
   {
    "duration": 59,
    "start_time": "2022-03-02T14:29:02.575Z"
   },
   {
    "duration": 268,
    "start_time": "2022-03-02T14:29:02.636Z"
   },
   {
    "duration": 23,
    "start_time": "2022-03-02T14:29:02.906Z"
   },
   {
    "duration": 294,
    "start_time": "2022-03-02T14:29:02.931Z"
   },
   {
    "duration": 292,
    "start_time": "2022-03-02T14:31:28.133Z"
   },
   {
    "duration": 295,
    "start_time": "2022-03-02T14:37:43.910Z"
   },
   {
    "duration": 71,
    "start_time": "2022-03-02T14:41:35.504Z"
   },
   {
    "duration": 50,
    "start_time": "2022-03-02T15:37:11.017Z"
   },
   {
    "duration": 9,
    "start_time": "2022-03-02T15:37:11.070Z"
   },
   {
    "duration": 19,
    "start_time": "2022-03-02T15:37:11.081Z"
   },
   {
    "duration": 48,
    "start_time": "2022-03-02T15:37:11.102Z"
   },
   {
    "duration": 229,
    "start_time": "2022-03-02T15:37:11.152Z"
   },
   {
    "duration": 160,
    "start_time": "2022-03-02T15:37:11.382Z"
   },
   {
    "duration": 329,
    "start_time": "2022-03-02T15:37:11.544Z"
   },
   {
    "duration": 289,
    "start_time": "2022-03-02T15:37:11.874Z"
   },
   {
    "duration": 711,
    "start_time": "2022-03-02T15:37:12.165Z"
   },
   {
    "duration": 55,
    "start_time": "2022-03-02T15:37:12.878Z"
   },
   {
    "duration": 277,
    "start_time": "2022-03-02T15:37:12.936Z"
   },
   {
    "duration": 22,
    "start_time": "2022-03-02T15:37:13.216Z"
   },
   {
    "duration": 341,
    "start_time": "2022-03-02T15:37:13.240Z"
   },
   {
    "duration": 1239,
    "start_time": "2022-03-03T12:35:00.118Z"
   },
   {
    "duration": 9,
    "start_time": "2022-03-03T12:35:01.359Z"
   },
   {
    "duration": 22,
    "start_time": "2022-03-03T12:35:01.370Z"
   },
   {
    "duration": 52,
    "start_time": "2022-03-03T12:35:01.394Z"
   },
   {
    "duration": 317,
    "start_time": "2022-03-03T12:35:01.448Z"
   },
   {
    "duration": 179,
    "start_time": "2022-03-03T12:35:01.767Z"
   },
   {
    "duration": 230,
    "start_time": "2022-03-03T12:35:01.948Z"
   },
   {
    "duration": 261,
    "start_time": "2022-03-03T12:35:02.180Z"
   },
   {
    "duration": 722,
    "start_time": "2022-03-03T12:35:02.443Z"
   },
   {
    "duration": 44,
    "start_time": "2022-03-03T12:35:03.167Z"
   },
   {
    "duration": 357,
    "start_time": "2022-03-03T12:35:03.213Z"
   },
   {
    "duration": 19,
    "start_time": "2022-03-03T12:35:03.572Z"
   },
   {
    "duration": 587,
    "start_time": "2022-03-03T12:35:03.592Z"
   },
   {
    "duration": 1192,
    "start_time": "2022-03-04T00:23:07.060Z"
   },
   {
    "duration": 8,
    "start_time": "2022-03-04T00:23:08.254Z"
   },
   {
    "duration": 18,
    "start_time": "2022-03-04T00:23:08.264Z"
   },
   {
    "duration": 38,
    "start_time": "2022-03-04T00:23:08.284Z"
   },
   {
    "duration": 241,
    "start_time": "2022-03-04T00:23:08.323Z"
   },
   {
    "duration": 156,
    "start_time": "2022-03-04T00:23:08.565Z"
   },
   {
    "duration": 248,
    "start_time": "2022-03-04T00:23:08.723Z"
   },
   {
    "duration": 288,
    "start_time": "2022-03-04T00:23:08.973Z"
   },
   {
    "duration": 638,
    "start_time": "2022-03-04T00:23:09.263Z"
   },
   {
    "duration": 43,
    "start_time": "2022-03-04T00:23:09.902Z"
   },
   {
    "duration": 258,
    "start_time": "2022-03-04T00:23:09.947Z"
   },
   {
    "duration": 19,
    "start_time": "2022-03-04T00:23:10.207Z"
   },
   {
    "duration": 372,
    "start_time": "2022-03-04T00:23:10.227Z"
   },
   {
    "duration": 1374,
    "start_time": "2022-03-04T00:23:10.600Z"
   },
   {
    "duration": 983,
    "start_time": "2022-03-04T00:23:20.517Z"
   },
   {
    "duration": 1044,
    "start_time": "2022-03-04T00:23:56.664Z"
   },
   {
    "duration": 1034,
    "start_time": "2022-03-04T00:24:53.163Z"
   },
   {
    "duration": 1065,
    "start_time": "2022-03-04T00:26:32.955Z"
   },
   {
    "duration": 15,
    "start_time": "2022-03-04T00:27:04.813Z"
   },
   {
    "duration": 47,
    "start_time": "2022-03-04T00:27:22.788Z"
   },
   {
    "duration": 9,
    "start_time": "2022-03-04T00:27:22.836Z"
   },
   {
    "duration": 17,
    "start_time": "2022-03-04T00:27:22.847Z"
   },
   {
    "duration": 40,
    "start_time": "2022-03-04T00:27:22.866Z"
   },
   {
    "duration": 227,
    "start_time": "2022-03-04T00:27:22.907Z"
   },
   {
    "duration": 164,
    "start_time": "2022-03-04T00:27:23.136Z"
   },
   {
    "duration": 253,
    "start_time": "2022-03-04T00:27:23.302Z"
   },
   {
    "duration": 290,
    "start_time": "2022-03-04T00:27:23.557Z"
   },
   {
    "duration": 671,
    "start_time": "2022-03-04T00:27:23.849Z"
   },
   {
    "duration": 1161,
    "start_time": "2022-03-04T00:27:24.522Z"
   },
   {
    "duration": 265,
    "start_time": "2022-03-04T00:27:25.685Z"
   },
   {
    "duration": 13,
    "start_time": "2022-03-04T00:27:25.953Z"
   },
   {
    "duration": 22,
    "start_time": "2022-03-04T00:27:25.968Z"
   },
   {
    "duration": 331,
    "start_time": "2022-03-04T00:27:25.992Z"
   },
   {
    "duration": 294,
    "start_time": "2022-03-04T00:27:52.195Z"
   },
   {
    "duration": 19,
    "start_time": "2022-03-04T00:27:59.252Z"
   },
   {
    "duration": 61,
    "start_time": "2022-03-04T00:29:08.539Z"
   },
   {
    "duration": 225,
    "start_time": "2022-03-04T00:29:14.860Z"
   },
   {
    "duration": 207,
    "start_time": "2022-03-04T00:29:27.647Z"
   },
   {
    "duration": 208,
    "start_time": "2022-03-04T00:31:35.035Z"
   },
   {
    "duration": 188,
    "start_time": "2022-03-04T00:37:12.364Z"
   },
   {
    "duration": 14,
    "start_time": "2022-03-04T00:37:27.436Z"
   },
   {
    "duration": 26,
    "start_time": "2022-03-04T00:41:33.879Z"
   },
   {
    "duration": 25,
    "start_time": "2022-03-04T00:42:11.207Z"
   },
   {
    "duration": 27,
    "start_time": "2022-03-04T00:42:26.088Z"
   },
   {
    "duration": 29,
    "start_time": "2022-03-04T00:42:49.031Z"
   },
   {
    "duration": 27,
    "start_time": "2022-03-04T00:43:12.958Z"
   },
   {
    "duration": 256,
    "start_time": "2022-03-04T00:44:16.298Z"
   },
   {
    "duration": 19,
    "start_time": "2022-03-04T00:44:50.712Z"
   },
   {
    "duration": 5321,
    "start_time": "2022-03-04T00:44:58.933Z"
   },
   {
    "duration": 4843,
    "start_time": "2022-03-04T00:45:08.389Z"
   },
   {
    "duration": 22,
    "start_time": "2022-03-04T00:45:26.178Z"
   },
   {
    "duration": 29,
    "start_time": "2022-03-04T00:45:57.899Z"
   },
   {
    "duration": 238,
    "start_time": "2022-03-04T00:46:10.749Z"
   },
   {
    "duration": 29,
    "start_time": "2022-03-04T00:46:20.968Z"
   },
   {
    "duration": 6020,
    "start_time": "2022-03-04T00:49:32.275Z"
   },
   {
    "duration": 1474,
    "start_time": "2022-03-04T00:50:00.564Z"
   },
   {
    "duration": 41,
    "start_time": "2022-03-04T00:50:13.097Z"
   },
   {
    "duration": 1342,
    "start_time": "2022-03-04T00:51:39.171Z"
   },
   {
    "duration": 4878,
    "start_time": "2022-03-04T00:51:44.837Z"
   },
   {
    "duration": 46,
    "start_time": "2022-03-04T00:51:55.801Z"
   },
   {
    "duration": 8,
    "start_time": "2022-03-04T00:51:55.849Z"
   },
   {
    "duration": 17,
    "start_time": "2022-03-04T00:51:55.859Z"
   },
   {
    "duration": 38,
    "start_time": "2022-03-04T00:51:55.877Z"
   },
   {
    "duration": 227,
    "start_time": "2022-03-04T00:51:55.917Z"
   },
   {
    "duration": 160,
    "start_time": "2022-03-04T00:51:56.145Z"
   },
   {
    "duration": 243,
    "start_time": "2022-03-04T00:51:56.307Z"
   },
   {
    "duration": 282,
    "start_time": "2022-03-04T00:51:56.552Z"
   },
   {
    "duration": 641,
    "start_time": "2022-03-04T00:51:56.836Z"
   },
   {
    "duration": 1368,
    "start_time": "2022-03-04T00:51:57.479Z"
   },
   {
    "duration": 236,
    "start_time": "2022-03-04T00:51:58.849Z"
   },
   {
    "duration": 36,
    "start_time": "2022-03-04T00:51:59.087Z"
   },
   {
    "duration": 48,
    "start_time": "2022-03-04T00:52:01.754Z"
   },
   {
    "duration": 8,
    "start_time": "2022-03-04T00:52:01.804Z"
   },
   {
    "duration": 22,
    "start_time": "2022-03-04T00:52:01.814Z"
   },
   {
    "duration": 60,
    "start_time": "2022-03-04T00:52:01.838Z"
   },
   {
    "duration": 221,
    "start_time": "2022-03-04T00:52:01.899Z"
   },
   {
    "duration": 147,
    "start_time": "2022-03-04T00:52:02.121Z"
   },
   {
    "duration": 236,
    "start_time": "2022-03-04T00:52:02.269Z"
   },
   {
    "duration": 280,
    "start_time": "2022-03-04T00:52:02.507Z"
   },
   {
    "duration": 647,
    "start_time": "2022-03-04T00:52:02.790Z"
   },
   {
    "duration": 1286,
    "start_time": "2022-03-04T00:52:03.439Z"
   },
   {
    "duration": 241,
    "start_time": "2022-03-04T00:52:04.727Z"
   },
   {
    "duration": 33,
    "start_time": "2022-03-04T00:52:04.970Z"
   },
   {
    "duration": 19,
    "start_time": "2022-03-04T00:52:05.005Z"
   },
   {
    "duration": 337,
    "start_time": "2022-03-04T00:52:05.026Z"
   },
   {
    "duration": 24,
    "start_time": "2022-03-04T00:52:52.324Z"
   },
   {
    "duration": 28,
    "start_time": "2022-03-04T00:52:57.540Z"
   },
   {
    "duration": 206,
    "start_time": "2022-03-04T00:53:14.600Z"
   },
   {
    "duration": 59,
    "start_time": "2022-03-04T00:53:27.235Z"
   },
   {
    "duration": 29,
    "start_time": "2022-03-04T00:53:30.138Z"
   },
   {
    "duration": 24,
    "start_time": "2022-03-04T00:54:25.376Z"
   },
   {
    "duration": 23,
    "start_time": "2022-03-04T00:55:05.344Z"
   },
   {
    "duration": 4797,
    "start_time": "2022-03-04T00:58:15.484Z"
   },
   {
    "duration": 4892,
    "start_time": "2022-03-04T01:01:22.864Z"
   },
   {
    "duration": 5008,
    "start_time": "2022-03-04T01:01:43.544Z"
   },
   {
    "duration": 34,
    "start_time": "2022-03-04T01:01:56.201Z"
   },
   {
    "duration": 26,
    "start_time": "2022-03-04T01:02:04.034Z"
   },
   {
    "duration": 211,
    "start_time": "2022-03-04T01:02:07.078Z"
   },
   {
    "duration": 209,
    "start_time": "2022-03-04T01:02:16.172Z"
   },
   {
    "duration": 27,
    "start_time": "2022-03-04T01:02:24.606Z"
   },
   {
    "duration": 27,
    "start_time": "2022-03-04T01:04:33.647Z"
   },
   {
    "duration": 26,
    "start_time": "2022-03-04T01:05:03.112Z"
   },
   {
    "duration": 229,
    "start_time": "2022-03-04T01:05:12.459Z"
   },
   {
    "duration": 25,
    "start_time": "2022-03-04T01:05:16.003Z"
   },
   {
    "duration": 207,
    "start_time": "2022-03-04T01:06:38.658Z"
   },
   {
    "duration": 237,
    "start_time": "2022-03-04T01:06:48.119Z"
   },
   {
    "duration": 231,
    "start_time": "2022-03-04T01:07:04.641Z"
   },
   {
    "duration": 59,
    "start_time": "2022-03-04T01:07:38.484Z"
   },
   {
    "duration": 28,
    "start_time": "2022-03-04T01:07:45.753Z"
   },
   {
    "duration": 30,
    "start_time": "2022-03-04T01:08:25.531Z"
   },
   {
    "duration": 31,
    "start_time": "2022-03-04T01:08:47.887Z"
   },
   {
    "duration": 32,
    "start_time": "2022-03-04T01:09:05.528Z"
   },
   {
    "duration": 30,
    "start_time": "2022-03-04T01:09:54.063Z"
   },
   {
    "duration": 31,
    "start_time": "2022-03-04T01:09:57.340Z"
   },
   {
    "duration": 30,
    "start_time": "2022-03-04T01:10:09.509Z"
   },
   {
    "duration": 69,
    "start_time": "2022-03-04T01:12:02.809Z"
   },
   {
    "duration": 228,
    "start_time": "2022-03-04T01:12:06.732Z"
   },
   {
    "duration": 246,
    "start_time": "2022-03-04T01:12:36.191Z"
   },
   {
    "duration": 73,
    "start_time": "2022-03-04T01:12:58.427Z"
   },
   {
    "duration": 231,
    "start_time": "2022-03-04T01:13:01.268Z"
   },
   {
    "duration": 273,
    "start_time": "2022-03-04T01:13:07.794Z"
   },
   {
    "duration": 25,
    "start_time": "2022-03-04T01:13:30.224Z"
   },
   {
    "duration": 81,
    "start_time": "2022-03-04T01:13:44.935Z"
   },
   {
    "duration": 25,
    "start_time": "2022-03-04T01:13:47.257Z"
   },
   {
    "duration": 25,
    "start_time": "2022-03-04T01:14:33.388Z"
   },
   {
    "duration": 26,
    "start_time": "2022-03-04T01:14:41.208Z"
   },
   {
    "duration": 239,
    "start_time": "2022-03-04T01:14:47.427Z"
   },
   {
    "duration": 222,
    "start_time": "2022-03-04T01:15:01.991Z"
   },
   {
    "duration": 60,
    "start_time": "2022-03-04T01:15:07.936Z"
   },
   {
    "duration": 216,
    "start_time": "2022-03-04T01:15:10.798Z"
   },
   {
    "duration": 28,
    "start_time": "2022-03-04T01:15:19.647Z"
   },
   {
    "duration": 26,
    "start_time": "2022-03-04T01:15:38.048Z"
   },
   {
    "duration": 26,
    "start_time": "2022-03-04T01:15:44.824Z"
   },
   {
    "duration": 25,
    "start_time": "2022-03-04T01:15:51.665Z"
   },
   {
    "duration": 246,
    "start_time": "2022-03-04T01:16:01.806Z"
   },
   {
    "duration": 29,
    "start_time": "2022-03-04T01:16:06.272Z"
   },
   {
    "duration": 40,
    "start_time": "2022-03-04T01:16:13.977Z"
   },
   {
    "duration": 37,
    "start_time": "2022-03-04T01:16:34.347Z"
   },
   {
    "duration": 1402,
    "start_time": "2022-03-04T01:18:44.872Z"
   },
   {
    "duration": 4660,
    "start_time": "2022-03-04T01:20:04.532Z"
   },
   {
    "duration": 4747,
    "start_time": "2022-03-04T01:20:44.156Z"
   },
   {
    "duration": 52,
    "start_time": "2022-03-04T01:20:55.555Z"
   },
   {
    "duration": 8,
    "start_time": "2022-03-04T01:20:55.608Z"
   },
   {
    "duration": 18,
    "start_time": "2022-03-04T01:20:55.618Z"
   },
   {
    "duration": 57,
    "start_time": "2022-03-04T01:20:55.638Z"
   },
   {
    "duration": 209,
    "start_time": "2022-03-04T01:20:55.696Z"
   },
   {
    "duration": 148,
    "start_time": "2022-03-04T01:20:55.907Z"
   },
   {
    "duration": 248,
    "start_time": "2022-03-04T01:20:56.056Z"
   },
   {
    "duration": 281,
    "start_time": "2022-03-04T01:20:56.305Z"
   },
   {
    "duration": 654,
    "start_time": "2022-03-04T01:20:56.589Z"
   },
   {
    "duration": 983,
    "start_time": "2022-03-04T01:20:57.244Z"
   },
   {
    "duration": 235,
    "start_time": "2022-03-04T01:20:58.229Z"
   },
   {
    "duration": 38,
    "start_time": "2022-03-04T01:20:58.465Z"
   },
   {
    "duration": 20,
    "start_time": "2022-03-04T01:20:58.505Z"
   },
   {
    "duration": 48,
    "start_time": "2022-03-04T01:20:58.526Z"
   },
   {
    "duration": 303,
    "start_time": "2022-03-04T01:20:58.575Z"
   },
   {
    "duration": 21,
    "start_time": "2022-03-04T01:21:52.450Z"
   },
   {
    "duration": 20,
    "start_time": "2022-03-04T01:22:07.779Z"
   },
   {
    "duration": 21,
    "start_time": "2022-03-04T01:22:22.038Z"
   },
   {
    "duration": 23,
    "start_time": "2022-03-04T01:23:00.537Z"
   },
   {
    "duration": 20,
    "start_time": "2022-03-04T01:23:06.718Z"
   },
   {
    "duration": 24,
    "start_time": "2022-03-04T01:23:10.447Z"
   },
   {
    "duration": 45,
    "start_time": "2022-03-04T01:31:33.564Z"
   },
   {
    "duration": 8,
    "start_time": "2022-03-04T01:31:33.610Z"
   },
   {
    "duration": 15,
    "start_time": "2022-03-04T01:31:33.620Z"
   },
   {
    "duration": 57,
    "start_time": "2022-03-04T01:31:33.636Z"
   },
   {
    "duration": 218,
    "start_time": "2022-03-04T01:31:33.695Z"
   },
   {
    "duration": 223,
    "start_time": "2022-03-04T01:31:33.915Z"
   },
   {
    "duration": 235,
    "start_time": "2022-03-04T01:31:34.139Z"
   },
   {
    "duration": 281,
    "start_time": "2022-03-04T01:31:34.376Z"
   },
   {
    "duration": 661,
    "start_time": "2022-03-04T01:31:34.660Z"
   },
   {
    "duration": 1162,
    "start_time": "2022-03-04T01:31:35.323Z"
   },
   {
    "duration": 236,
    "start_time": "2022-03-04T01:31:36.486Z"
   },
   {
    "duration": 48,
    "start_time": "2022-03-04T01:31:36.723Z"
   },
   {
    "duration": 21,
    "start_time": "2022-03-04T01:31:36.772Z"
   },
   {
    "duration": 23,
    "start_time": "2022-03-04T01:31:36.794Z"
   },
   {
    "duration": 316,
    "start_time": "2022-03-04T01:31:36.818Z"
   },
   {
    "duration": 64,
    "start_time": "2022-03-04T01:32:11.410Z"
   },
   {
    "duration": 49,
    "start_time": "2022-03-04T01:55:13.199Z"
   },
   {
    "duration": 9,
    "start_time": "2022-03-04T01:55:13.250Z"
   },
   {
    "duration": 17,
    "start_time": "2022-03-04T01:55:13.261Z"
   },
   {
    "duration": 39,
    "start_time": "2022-03-04T01:55:13.280Z"
   },
   {
    "duration": 238,
    "start_time": "2022-03-04T01:55:13.321Z"
   },
   {
    "duration": 158,
    "start_time": "2022-03-04T01:55:13.560Z"
   },
   {
    "duration": 249,
    "start_time": "2022-03-04T01:55:13.720Z"
   },
   {
    "duration": 289,
    "start_time": "2022-03-04T01:55:13.970Z"
   },
   {
    "duration": 748,
    "start_time": "2022-03-04T01:55:14.261Z"
   },
   {
    "duration": 1323,
    "start_time": "2022-03-04T01:55:15.012Z"
   },
   {
    "duration": 248,
    "start_time": "2022-03-04T01:55:16.337Z"
   },
   {
    "duration": 40,
    "start_time": "2022-03-04T01:55:16.588Z"
   },
   {
    "duration": 42,
    "start_time": "2022-03-04T01:55:16.630Z"
   },
   {
    "duration": 25,
    "start_time": "2022-03-04T01:55:16.674Z"
   },
   {
    "duration": 338,
    "start_time": "2022-03-04T01:55:16.701Z"
   },
   {
    "duration": 1254,
    "start_time": "2022-03-05T20:15:24.798Z"
   }
  ],
  "kernelspec": {
   "display_name": "Python 3 (ipykernel)",
   "language": "python",
   "name": "python3"
  },
  "language_info": {
   "codemirror_mode": {
    "name": "ipython",
    "version": 3
   },
   "file_extension": ".py",
   "mimetype": "text/x-python",
   "name": "python",
   "nbconvert_exporter": "python",
   "pygments_lexer": "ipython3",
   "version": "3.9.7"
  },
  "toc": {
   "base_numbering": 1,
   "nav_menu": {},
   "number_sections": true,
   "sideBar": true,
   "skip_h1_title": true,
   "title_cell": "Содержание",
   "title_sidebar": "Contents",
   "toc_cell": true,
   "toc_position": {
    "height": "calc(100% - 180px)",
    "left": "10px",
    "top": "150px",
    "width": "165px"
   },
   "toc_section_display": true,
   "toc_window_display": true
  }
 },
 "nbformat": 4,
 "nbformat_minor": 2
}
